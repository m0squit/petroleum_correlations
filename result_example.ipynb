{
 "cells": [
  {
   "cell_type": "code",
   "execution_count": null,
   "metadata": {},
   "outputs": [],
   "source": [
    "import plotly as pl\n",
    "import plotly.graph_objs as go\n",
    "pl.offline.init_notebook_mode(connected=True)"
   ]
  },
  {
   "cell_type": "code",
   "execution_count": null,
   "metadata": {},
   "outputs": [],
   "source": [
    "import Rock as r\n",
    "import Gas as g\n",
    "import Insulation as i\n",
    "import Pipe as p\n",
    "import Well as w\n"
   ]
  },
  {
   "cell_type": "code",
   "execution_count": null,
   "metadata": {},
   "outputs": [],
   "source": [
    "rock = r.Rock(temperature_formation_initial=350)\n",
    "gas = g.Gas(pressure_pseudocritical=46, temperature_pseudocritical=190.5, density_relative=0.56)\n",
    "cementing = i.Insulation(diameter=0.25, thermal_conductivity=0.7)\n",
    "\n",
    "pipe_casing = p.Pipe(length=1000,\n",
    "                     diameter_outer=0.2,\n",
    "                     diameter_inner=0.15,\n",
    "                     roughness_absolute=None,\n",
    "                     angle_horizontal=90,\n",
    "                     thermal_conductivity=0.7,\n",
    "                     insulation=cementing)\n",
    "\n",
    "pipe_production = p.Pipe(length=1000,\n",
    "                         diameter_outer=0.125,\n",
    "                         diameter_inner=0.10,\n",
    "                         roughness_absolute=1e-5,\n",
    "                         angle_horizontal=90,\n",
    "                         thermal_conductivity=0.7,\n",
    "                         insulation=None)\n",
    "\n",
    "well = w.Well(pipe_casing=pipe_casing,\n",
    "              pipe_production=pipe_production,\n",
    "              rock=rock,\n",
    "              gas=gas,\n",
    "              time_work=31,\n",
    "              rate_standard=1000,\n",
    "              pressure_wellhead=100)\n",
    "\n",
    "pt_simple = well.compute_pressure_temperature_profile(method_temperature=\"simple\")\n",
    "pt_hasan_kabir = well.compute_pressure_temperature_profile(method_temperature=\"hasan_kabir\")\n"
   ]
  },
  {
   "cell_type": "code",
   "execution_count": null,
   "metadata": {},
   "outputs": [],
   "source": [
    "fig = go.Figure()\n",
    "\n",
    "trace1 = go.Scattergl(x=pt_simple['pressure'],\n",
    "                      y=pt_simple['coordinate'], \n",
    "                      mode='markers',\n",
    "                      name='pressure_fanning',\n",
    "                      xaxis=\"x1\")\n",
    "\n",
    "trace2 = go.Scattergl(x=pt_simple['temperature'],\n",
    "                      y=pt_simple['coordinate'], \n",
    "                      mode='markers',\n",
    "                      name='temperature_simple',\n",
    "                      xaxis='x2')\n",
    "\n",
    "trace3 = go.Scattergl(x=pt_hasan_kabir['pressure'],\n",
    "                      y=pt_hasan_kabir['coordinate'], \n",
    "                      mode='markers',\n",
    "                      name='pressure_fanning',\n",
    "                      xaxis=\"x1\")\n",
    "\n",
    "trace4 = go.Scattergl(x=pt_hasan_kabir['temperature'],\n",
    "                      y=pt_hasan_kabir['coordinate'], \n",
    "                      mode='markers',\n",
    "                      name='temperature_hasan_kabir',\n",
    "                      xaxis='x2')\n",
    "\n",
    "fig.add_trace(trace1)\n",
    "fig.add_trace(trace2)\n",
    "fig.add_trace(trace3)\n",
    "fig.add_trace(trace4)\n",
    "\n",
    "fig.update_layout(xaxis1=dict(side=\"bottom\"),\n",
    "                  xaxis2=dict(overlaying=\"x\",\n",
    "                              side=\"top\"))\n",
    "\n",
    "fig.show()\n"
   ]
  },
  {
   "cell_type": "code",
   "execution_count": null,
   "metadata": {},
   "outputs": [],
   "source": []
  }
 ],
 "metadata": {
  "kernelspec": {
   "display_name": "Python 3",
   "language": "python",
   "name": "python3"
  },
  "language_info": {
   "codemirror_mode": {
    "name": "ipython",
    "version": 3
   },
   "file_extension": ".py",
   "mimetype": "text/x-python",
   "name": "python",
   "nbconvert_exporter": "python",
   "pygments_lexer": "ipython3",
   "version": "3.7.3"
  }
 },
 "nbformat": 4,
 "nbformat_minor": 2
}
