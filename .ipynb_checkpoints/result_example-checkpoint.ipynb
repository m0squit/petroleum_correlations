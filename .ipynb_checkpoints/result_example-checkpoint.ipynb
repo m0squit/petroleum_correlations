{
 "cells": [
  {
   "cell_type": "code",
   "execution_count": 1,
   "metadata": {},
   "outputs": [
    {
     "data": {
      "text/html": [
       "        <script type=\"text/javascript\">\n",
       "        window.PlotlyConfig = {MathJaxConfig: 'local'};\n",
       "        if (window.MathJax) {MathJax.Hub.Config({SVG: {font: \"STIX-Web\"}});}\n",
       "        if (typeof require !== 'undefined') {\n",
       "        require.undef(\"plotly\");\n",
       "        requirejs.config({\n",
       "            paths: {\n",
       "                'plotly': ['https://cdn.plot.ly/plotly-latest.min']\n",
       "            }\n",
       "        });\n",
       "        require(['plotly'], function(Plotly) {\n",
       "            window._Plotly = Plotly;\n",
       "        });\n",
       "        }\n",
       "        </script>\n",
       "        "
      ]
     },
     "metadata": {},
     "output_type": "display_data"
    }
   ],
   "source": [
    "import plotly as pl\n",
    "import plotly.graph_objs as go\n",
    "pl.offline.init_notebook_mode(connected=True)"
   ]
  },
  {
   "cell_type": "code",
   "execution_count": 2,
   "metadata": {},
   "outputs": [
    {
     "ename": "ModuleNotFoundError",
     "evalue": "No module named 'Rock'",
     "output_type": "error",
     "traceback": [
      "\u001b[1;31m---------------------------------------------------------------------------\u001b[0m",
      "\u001b[1;31mModuleNotFoundError\u001b[0m                       Traceback (most recent call last)",
      "\u001b[1;32m<ipython-input-2-2c1c7f8ab68b>\u001b[0m in \u001b[0;36m<module>\u001b[1;34m\u001b[0m\n\u001b[1;32m----> 1\u001b[1;33m \u001b[1;32mimport\u001b[0m \u001b[0mRock\u001b[0m \u001b[1;32mas\u001b[0m \u001b[0mr\u001b[0m\u001b[1;33m\u001b[0m\u001b[1;33m\u001b[0m\u001b[0m\n\u001b[0m\u001b[0;32m      2\u001b[0m \u001b[1;32mimport\u001b[0m \u001b[0mGas\u001b[0m \u001b[1;32mas\u001b[0m \u001b[0mg\u001b[0m\u001b[1;33m\u001b[0m\u001b[1;33m\u001b[0m\u001b[0m\n\u001b[0;32m      3\u001b[0m \u001b[1;32mimport\u001b[0m \u001b[0mInsulation\u001b[0m \u001b[1;32mas\u001b[0m \u001b[0mi\u001b[0m\u001b[1;33m\u001b[0m\u001b[1;33m\u001b[0m\u001b[0m\n\u001b[0;32m      4\u001b[0m \u001b[1;32mimport\u001b[0m \u001b[0mPipe\u001b[0m \u001b[1;32mas\u001b[0m \u001b[0mp\u001b[0m\u001b[1;33m\u001b[0m\u001b[1;33m\u001b[0m\u001b[0m\n\u001b[0;32m      5\u001b[0m \u001b[1;32mimport\u001b[0m \u001b[0mWell\u001b[0m \u001b[1;32mas\u001b[0m \u001b[0mw\u001b[0m\u001b[1;33m\u001b[0m\u001b[1;33m\u001b[0m\u001b[0m\n",
      "\u001b[1;31mModuleNotFoundError\u001b[0m: No module named 'Rock'"
     ]
    }
   ],
   "source": [
    "import rock as r\n",
    "import gas as g\n",
    "import insulation as i\n",
    "import pipe as p\n",
    "import well as w\n"
   ]
  },
  {
   "cell_type": "code",
   "execution_count": null,
   "metadata": {},
   "outputs": [],
   "source": [
    "rock = r.Rock(temperature_formation_initial = 350)\n",
    "gas = g.Gas(pressure_pseudocritical = 46, temperature_pseudocritical = 190.5, density_relative = 0.56)\n",
    "cementing = i.Insulation(diameter = 0.25, thermal_conductivity = 0.7)\n",
    "\n",
    "pipe_casing = p.Pipe(length = 1000,\n",
    "                     diameter_outer = 0.2,\n",
    "                     diameter_inner = 0.15,\n",
    "                     roughness_absolute = None,\n",
    "                     angle_horizontal = 90,\n",
    "                     thermal_conductivity = 0.7,\n",
    "                     insulation = cementing)\n",
    "\n",
    "pipe_production = p.Pipe(length = 1000,\n",
    "                         diameter_outer = 0.125,\n",
    "                         diameter_inner = 0.10,\n",
    "                         roughness_absolute = 1e-5,\n",
    "                         angle_horizontal = 90,\n",
    "                         thermal_conductivity = 0.7,\n",
    "                         insulation = None)\n",
    "\n",
    "well = w.Well(pipe_casing = pipe_casing,\n",
    "              pipe_production = pipe_production,\n",
    "              rock = rock,\n",
    "              gas = gas,\n",
    "              time_work = 31,\n",
    "              rate_standard = 1000,\n",
    "              pressure_wellhead = 100)\n"
   ]
  },
  {
   "cell_type": "code",
   "execution_count": null,
   "metadata": {},
   "outputs": [],
   "source": [
    "fig = go.Figure()\n",
    "\n",
    "profile = well.compute_pressure_profile()\n",
    "\n",
    "trace1 = go.Scattergl(x = profile['pressure'],\n",
    "                      y = profile['coordinate'], \n",
    "                      mode = 'markers',\n",
    "                      name = 'pressure_fanning',\n",
    "                      xaxis = 'x1')\n",
    "\n",
    "trace2 = go.Scattergl(x = profile['temperature'],\n",
    "                      y = profile['coordinate'], \n",
    "                      mode = 'markers',\n",
    "                      name = 'temperature_simple',\n",
    "                      xaxis = 'x2')\n",
    "\n",
    "profile = well.compute_pressure_profile()\n",
    "\n",
    "trace3 = go.Scattergl(x = profile['pressure'],\n",
    "                      y = profile['coordinate'], \n",
    "                      mode = 'markers',\n",
    "                      name = 'pressure_fanning',\n",
    "                      xaxis = 'x1')\n",
    "\n",
    "trace4 = go.Scattergl(x = profile['temperature'],\n",
    "                      y = profile['coordinate'], \n",
    "                      mode = 'markers',\n",
    "                      name = 'temperature_hasan_kabir',\n",
    "                      xaxis = 'x2')\n",
    "\n",
    "fig.add_trace(trace1)\n",
    "fig.add_trace(trace2)\n",
    "fig.add_trace(trace3)\n",
    "fig.add_trace(trace4)\n",
    "\n",
    "fig.update_layout(xaxis1=dict(side=\"bottom\"),\n",
    "                  xaxis2=dict(overlaying=\"x\",\n",
    "                              side=\"top\"))\n",
    "\n",
    "fig.show()\n"
   ]
  },
  {
   "cell_type": "code",
   "execution_count": null,
   "metadata": {},
   "outputs": [],
   "source": []
  }
 ],
 "metadata": {
  "kernelspec": {
   "display_name": "Python 3",
   "language": "python",
   "name": "python3"
  },
  "language_info": {
   "codemirror_mode": {
    "name": "ipython",
    "version": 3
   },
   "file_extension": ".py",
   "mimetype": "text/x-python",
   "name": "python",
   "nbconvert_exporter": "python",
   "pygments_lexer": "ipython3",
   "version": "3.7.3"
  }
 },
 "nbformat": 4,
 "nbformat_minor": 2
}
